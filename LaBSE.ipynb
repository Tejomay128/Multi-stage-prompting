{
 "cells": [
  {
   "cell_type": "code",
   "execution_count": 6,
   "id": "5e7be101",
   "metadata": {},
   "outputs": [
    {
     "data": {
      "text/plain": [
       "device(type='cuda', index=6)"
      ]
     },
     "execution_count": 6,
     "metadata": {},
     "output_type": "execute_result"
    }
   ],
   "source": [
    "from sentence_transformers import SentenceTransformer\n",
    "from datasets import load_dataset\n",
    "import torch\n",
    "import heapq\n",
    "\n",
    "device = torch.device('cuda:6' if torch.cuda.is_available() else 'cpu')\n",
    "device"
   ]
  },
  {
   "cell_type": "code",
   "execution_count": 19,
   "id": "497e1ae2",
   "metadata": {},
   "outputs": [],
   "source": [
    "def cosine_sim(e1, e2):\n",
    "    e1 = torch.tensor(e1).to(device)\n",
    "    e2 = torch.tensor(e2).to(device)\n",
    "    return (e1@e2).item()\n",
    "\n",
    "\n",
    "def filter_data(dataset, lang1='en', lang2='hi'):\n",
    "    new_data = []\n",
    "    symbols = ['<', '>', '%', '\\\\s']\n",
    "    model = SentenceTransformer('sentence-transformers/LaBSE').to(device)\n",
    "    \n",
    "    heapq.heapify(new_data)\n",
    "    \n",
    "    for i, pair in enumerate(dataset):\n",
    "        flag = False\n",
    "        for s in symbols:\n",
    "            if s in pair['en']:\n",
    "                flag = True\n",
    "                break\n",
    "        if not flag and len(pair['en']) > 0 and len(pair['hi']) > 0:\n",
    "            embeds = model.encode([pair['en'], pair['hi']])\n",
    "            sim = cosine_sim(embeds[0], embeds[1])\n",
    "            if sim < 0.95:\n",
    "                heapq.heappush(new_data, (sim, i))\n",
    "        if (i+1) % 50000 == 0:\n",
    "            print(f'{i+1} sentences processed.')\n",
    "    print(\"Processing done.\")\n",
    "    return new_data\n",
    "\n",
    "def write_data(data, data_idx, PATH):\n",
    "    f_en = open(PATH + 'filtered.en', 'w')\n",
    "    f_hi = open(PATH + 'filtered.hi', 'w')\n",
    "    \n",
    "    for _, idx in data_idx:\n",
    "        f_en.write(data[idx]['en'] + '\\n')\n",
    "        f_hi.write(data[idx]['hi'] + '\\n')\n",
    "    \n",
    "    f_en.close()\n",
    "    f_hi.close()"
   ]
  },
  {
   "cell_type": "code",
   "execution_count": null,
   "id": "3c686678",
   "metadata": {},
   "outputs": [
    {
     "name": "stderr",
     "output_type": "stream",
     "text": [
      "Found cached dataset parquet (/root/.cache/huggingface/datasets/cfilt___parquet/cfilt--iitb-english-hindi-911387c6837f8b91/0.0.0/2a3b91fbd88a2c90d1dbbb32b460cf621d31bd5b05b934492fdef7d8d6f236ec)\n"
     ]
    },
    {
     "data": {
      "application/vnd.jupyter.widget-view+json": {
       "model_id": "345c4e86592f41a7b8afb4cf013dad16",
       "version_major": 2,
       "version_minor": 0
      },
      "text/plain": [
       "  0%|          | 0/3 [00:00<?, ?it/s]"
      ]
     },
     "metadata": {},
     "output_type": "display_data"
    },
    {
     "name": "stdout",
     "output_type": "stream",
     "text": [
      "50000 sentences processed.\n"
     ]
    }
   ],
   "source": [
    "dataset = load_dataset(\"cfilt/iitb-english-hindi\")['train']['translation']\n",
    "dataset_idx = filter_data(dataset)\n",
    "write_data(dataset, dataset_idx, 'filtered_data/')"
   ]
  },
  {
   "cell_type": "code",
   "execution_count": 13,
   "id": "4ca42fbc",
   "metadata": {},
   "outputs": [
    {
     "data": {
      "text/plain": [
       "[(0.8373191952705383,\n",
       "  {'en': 'Accerciser Accessibility Explorer',\n",
       "   'hi': 'एक्सेर्साइसर पहुंचनीयता अन्वेषक'}),\n",
       " (0.8552480936050415,\n",
       "  {'en': 'Give your application an accessibility workout',\n",
       "   'hi': 'अपने अनुप्रयोग को पहुंचनीयता व्यायाम का लाभ दें'})]"
      ]
     },
     "execution_count": 13,
     "metadata": {},
     "output_type": "execute_result"
    }
   ],
   "source": [
    "dataset"
   ]
  },
  {
   "cell_type": "code",
   "execution_count": null,
   "id": "52befbcf",
   "metadata": {},
   "outputs": [],
   "source": []
  }
 ],
 "metadata": {
  "kernelspec": {
   "display_name": "Python 3 (ipykernel)",
   "language": "python",
   "name": "python3"
  },
  "language_info": {
   "codemirror_mode": {
    "name": "ipython",
    "version": 3
   },
   "file_extension": ".py",
   "mimetype": "text/x-python",
   "name": "python",
   "nbconvert_exporter": "python",
   "pygments_lexer": "ipython3",
   "version": "3.8.10"
  }
 },
 "nbformat": 4,
 "nbformat_minor": 5
}
