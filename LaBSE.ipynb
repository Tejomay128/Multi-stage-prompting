{
 "cells": [
  {
   "cell_type": "code",
   "execution_count": 6,
   "id": "f262e8da",
   "metadata": {},
   "outputs": [
    {
     "data": {
      "text/plain": [
       "device(type='cuda', index=6)"
      ]
     },
     "execution_count": 6,
     "metadata": {},
     "output_type": "execute_result"
    }
   ],
   "source": [
    "from sentence_transformers import SentenceTransformer\n",
    "from datasets import load_dataset\n",
    "import torch\n",
    "import heapq\n",
    "\n",
    "device = torch.device('cuda:6' if torch.cuda.is_available() else 'cpu')\n",
    "device"
   ]
  },
  {
   "cell_type": "code",
   "execution_count": 14,
   "id": "6a618fd6",
   "metadata": {},
   "outputs": [],
   "source": [
    "def cosine_sim(e1, e2):\n",
    "    e1 = torch.tensor(e1).to(device)\n",
    "    e2 = torch.tensor(e2).to(device)\n",
    "    return (e1@e2).item()\n",
    "\n",
    "\n",
    "def filter_data(dataset, lang1='en', lang2='hi'):\n",
    "    new_data = []\n",
    "    symbols = ['<', '>', '%', '\\\\s']\n",
    "    model = SentenceTransformer('sentence-transformers/LaBSE').to(device)\n",
    "    \n",
    "    heapq.heapify(new_data)\n",
    "    \n",
    "    for i, pair in enumerate(dataset):\n",
    "        flag = False\n",
    "        for s in symbols:\n",
    "            if s in pair['en']:\n",
    "                flag = True\n",
    "                break\n",
    "        if not flag and len(pair['en']) > 0 and len(pair['hi']) > 0:\n",
    "            embeds = model.encode([pair['en'], pair['hi']])\n",
    "            sim = cosine_sim(embeds[0], embeds[1])\n",
    "            if sim < 0.95:\n",
    "                heapq.heappush(new_data, (sim, {'en': pair['en'], 'hi': pair['hi']}))\n",
    "        if (i+1) % 50000 == 0:\n",
    "            print(f'{i+1} sentences processed.')\n",
    "    print(\"Processing done.\")\n",
    "    return new_data\n",
    "\n",
    "def write_data(data, PATH):\n",
    "    f_en = open(PATH + 'filtered.en', 'w')\n",
    "    f_hi = open(PATH + 'filtered.hi', 'w')\n",
    "    \n",
    "    for pair in data:\n",
    "        f_en.write(pair['en'] + '\\n')\n",
    "        f_hi.write(pair['hi'] + '\\n')\n",
    "    \n",
    "    f_en.close()\n",
    "    f_hi.close()"
   ]
  },
  {
   "cell_type": "code",
   "execution_count": null,
   "id": "81ea828b",
   "metadata": {},
   "outputs": [
    {
     "name": "stderr",
     "output_type": "stream",
     "text": [
      "Found cached dataset parquet (/root/.cache/huggingface/datasets/cfilt___parquet/cfilt--iitb-english-hindi-911387c6837f8b91/0.0.0/2a3b91fbd88a2c90d1dbbb32b460cf621d31bd5b05b934492fdef7d8d6f236ec)\n"
     ]
    },
    {
     "data": {
      "application/vnd.jupyter.widget-view+json": {
       "model_id": "1005e1b5e6d748d1821b253fc184df60",
       "version_major": 2,
       "version_minor": 0
      },
      "text/plain": [
       "  0%|          | 0/3 [00:00<?, ?it/s]"
      ]
     },
     "metadata": {},
     "output_type": "display_data"
    },
    {
     "name": "stdout",
     "output_type": "stream",
     "text": [
      "50000 sentences processed.\n",
      "100000 sentences processed.\n",
      "150000 sentences processed.\n",
      "200000 sentences processed.\n",
      "250000 sentences processed.\n",
      "300000 sentences processed.\n"
     ]
    }
   ],
   "source": [
    "dataset = load_dataset(\"cfilt/iitb-english-hindi\")['train']['translation']\n",
    "dataset = filter_data(dataset)"
   ]
  },
  {
   "cell_type": "code",
   "execution_count": 13,
   "id": "ea5b4ad6",
   "metadata": {},
   "outputs": [
    {
     "data": {
      "text/plain": [
       "[(0.8373191952705383,\n",
       "  {'en': 'Accerciser Accessibility Explorer',\n",
       "   'hi': 'एक्सेर्साइसर पहुंचनीयता अन्वेषक'}),\n",
       " (0.8552480936050415,\n",
       "  {'en': 'Give your application an accessibility workout',\n",
       "   'hi': 'अपने अनुप्रयोग को पहुंचनीयता व्यायाम का लाभ दें'})]"
      ]
     },
     "execution_count": 13,
     "metadata": {},
     "output_type": "execute_result"
    }
   ],
   "source": [
    "dataset"
   ]
  },
  {
   "cell_type": "code",
   "execution_count": null,
   "id": "f346f638",
   "metadata": {},
   "outputs": [],
   "source": []
  }
 ],
 "metadata": {
  "kernelspec": {
   "display_name": "Python 3 (ipykernel)",
   "language": "python",
   "name": "python3"
  },
  "language_info": {
   "codemirror_mode": {
    "name": "ipython",
    "version": 3
   },
   "file_extension": ".py",
   "mimetype": "text/x-python",
   "name": "python",
   "nbconvert_exporter": "python",
   "pygments_lexer": "ipython3",
   "version": "3.8.10"
  }
 },
 "nbformat": 4,
 "nbformat_minor": 5
}
