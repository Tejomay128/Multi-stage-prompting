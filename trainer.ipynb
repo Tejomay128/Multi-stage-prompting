{
 "cells": [
  {
   "cell_type": "code",
   "execution_count": 1,
   "metadata": {},
   "outputs": [
    {
     "data": {
      "text/plain": [
       "device(type='cuda')"
      ]
     },
     "execution_count": 1,
     "metadata": {},
     "output_type": "execute_result"
    }
   ],
   "source": [
    "import torch\n",
    "import torch.nn as nn\n",
    "from torch.utils.data import Dataset, DataLoader\n",
    "from multi_stage import LLM\n",
    "from prep_data import get_eng_hi_dataset, tokenize\n",
    "from transformers import GPT2LMHeadModel, MT5Tokenizer\n",
    "\n",
    "device = torch.device('cuda' if torch.cuda.is_available() else 'cpu')\n",
    "device"
   ]
  },
  {
   "attachments": {},
   "cell_type": "markdown",
   "metadata": {},
   "source": [
    "<h2>Obtain parallel data (EN-HI)</h2>\n",
    "<h5>Data is in the form of dictionary with 'en' and 'hi' keys corresponding to english and hindi sentences respectively</h5>"
   ]
  },
  {
   "cell_type": "code",
   "execution_count": 2,
   "metadata": {},
   "outputs": [
    {
     "name": "stderr",
     "output_type": "stream",
     "text": [
      "Found cached dataset parquet (/home1/tejomay/.cache/huggingface/datasets/cfilt___parquet/cfilt--iitb-english-hindi-911387c6837f8b91/0.0.0/2a3b91fbd88a2c90d1dbbb32b460cf621d31bd5b05b934492fdef7d8d6f236ec)\n"
     ]
    },
    {
     "data": {
      "application/vnd.jupyter.widget-view+json": {
       "model_id": "b50be73d1d3e4251a8dbc35bbaa6053b",
       "version_major": 2,
       "version_minor": 0
      },
      "text/plain": [
       "  0%|          | 0/3 [00:00<?, ?it/s]"
      ]
     },
     "metadata": {},
     "output_type": "display_data"
    }
   ],
   "source": [
    "train_data, test_data = get_eng_hi_dataset()"
   ]
  },
  {
   "cell_type": "code",
   "execution_count": 5,
   "metadata": {},
   "outputs": [],
   "source": [
    "class ParallelCorpus(Dataset):\n",
    "    def __init__(self, data, src_lang='en', tgt_lang='hi') -> None:\n",
    "        super(ParallelCorpus, self).__init__()\n",
    "        self.src = []\n",
    "        self.tgt = []\n",
    "        for pair in data:\n",
    "            self.src.append(pair[src_lang])\n",
    "            self.tgt.append(pair[tgt_lang])\n",
    "        \n",
    "    def __len__(self):\n",
    "        return len(self.src)\n",
    "    \n",
    "    def __getitem__(self, index):\n",
    "        return self.src[index], self.tgt[index]\n",
    "\n",
    "train_pc = ParallelCorpus(train_data, src_lang='en', tgt_lang='hi')\n",
    "test_pc = ParallelCorpus(test_data, src_lang='en', tgt_lang='hi')"
   ]
  },
  {
   "cell_type": "code",
   "execution_count": 6,
   "metadata": {},
   "outputs": [],
   "source": [
    "model = GPT2LMHeadModel.from_pretrained(\"THUMT/mGPT\")"
   ]
  },
  {
   "attachments": {},
   "cell_type": "markdown",
   "metadata": {},
   "source": [
    "<h2>Hyperparameters</h2>"
   ]
  },
  {
   "cell_type": "code",
   "execution_count": 7,
   "metadata": {},
   "outputs": [],
   "source": [
    "len_prefix = 20\n",
    "lr = 0.001\n",
    "beta1 = 0.9\n",
    "beta2 = 0.98\n",
    "batch_size = 256\n",
    "num_epochs = 100\n",
    "\n",
    "for param in model.parameters():\n",
    "    param.requires_grad_(False)"
   ]
  },
  {
   "cell_type": "code",
   "execution_count": 8,
   "metadata": {},
   "outputs": [],
   "source": [
    "train_loader = DataLoader(dataset=train_pc, batch_size=batch_size, shuffle=True)\n",
    "test_loader = DataLoader(dataset=test_pc, batch_size=batch_size, shuffle=False)"
   ]
  },
  {
   "cell_type": "code",
   "execution_count": 9,
   "metadata": {},
   "outputs": [],
   "source": [
    "MT_model = LLM(model, len_prefix).to(device)\n",
    "optimizer = torch.optim.Adam(params=MT_model.prefix.parameters(),lr=lr, betas=(beta1, beta2), eps=1e-9)\n"
   ]
  },
  {
   "attachments": {},
   "cell_type": "markdown",
   "metadata": {},
   "source": [
    "<h2>Training</h2>"
   ]
  },
  {
   "cell_type": "code",
   "execution_count": 16,
   "metadata": {},
   "outputs": [
    {
     "name": "stdout",
     "output_type": "stream",
     "text": [
      "------------------------EPOCH 1-------------------------------\n",
      "256\n",
      "256\n",
      "256\n",
      "------------------------EPOCH 2-------------------------------\n",
      "256\n",
      "256\n",
      "256\n",
      "------------------------EPOCH 3-------------------------------\n",
      "256\n",
      "256\n",
      "256\n",
      "------------------------EPOCH 4-------------------------------\n",
      "256\n",
      "256\n",
      "256\n",
      "------------------------EPOCH 5-------------------------------\n",
      "256\n",
      "256\n",
      "256\n",
      "------------------------EPOCH 6-------------------------------\n",
      "256\n",
      "256\n",
      "256\n",
      "------------------------EPOCH 7-------------------------------\n",
      "256\n",
      "256\n",
      "256\n",
      "------------------------EPOCH 8-------------------------------\n",
      "256\n",
      "256\n",
      "256\n",
      "------------------------EPOCH 9-------------------------------\n",
      "256\n",
      "256\n",
      "256\n",
      "------------------------EPOCH 10-------------------------------\n",
      "256\n",
      "256\n",
      "256\n",
      "------------------------EPOCH 11-------------------------------\n",
      "256\n",
      "256\n",
      "256\n",
      "------------------------EPOCH 12-------------------------------\n",
      "256\n",
      "256\n",
      "256\n",
      "------------------------EPOCH 13-------------------------------\n",
      "256\n",
      "256\n",
      "256\n",
      "------------------------EPOCH 14-------------------------------\n",
      "256\n",
      "256\n",
      "256\n",
      "------------------------EPOCH 15-------------------------------\n",
      "256\n",
      "256\n",
      "256\n",
      "------------------------EPOCH 16-------------------------------\n",
      "256\n",
      "256\n",
      "256\n",
      "------------------------EPOCH 17-------------------------------\n",
      "256\n",
      "256\n",
      "256\n",
      "------------------------EPOCH 18-------------------------------\n",
      "256\n",
      "256\n",
      "256\n",
      "------------------------EPOCH 19-------------------------------\n",
      "256\n",
      "256\n",
      "256\n",
      "------------------------EPOCH 20-------------------------------\n",
      "256\n",
      "256\n",
      "256\n",
      "------------------------EPOCH 21-------------------------------\n",
      "256\n",
      "256\n",
      "256\n",
      "------------------------EPOCH 22-------------------------------\n",
      "256\n",
      "256\n",
      "256\n",
      "------------------------EPOCH 23-------------------------------\n",
      "256\n",
      "256\n",
      "256\n",
      "------------------------EPOCH 24-------------------------------\n",
      "256\n",
      "256\n",
      "256\n",
      "------------------------EPOCH 25-------------------------------\n",
      "256\n",
      "256\n",
      "256\n",
      "------------------------EPOCH 26-------------------------------\n",
      "256\n",
      "256\n",
      "256\n",
      "------------------------EPOCH 27-------------------------------\n",
      "256\n",
      "256\n",
      "256\n",
      "------------------------EPOCH 28-------------------------------\n",
      "256\n",
      "256\n",
      "256\n",
      "------------------------EPOCH 29-------------------------------\n",
      "256\n",
      "256\n",
      "256\n",
      "------------------------EPOCH 30-------------------------------\n",
      "256\n",
      "256\n",
      "256\n",
      "------------------------EPOCH 31-------------------------------\n",
      "256\n",
      "256\n",
      "256\n",
      "------------------------EPOCH 32-------------------------------\n",
      "256\n",
      "256\n",
      "256\n",
      "------------------------EPOCH 33-------------------------------\n",
      "256\n",
      "256\n",
      "256\n",
      "------------------------EPOCH 34-------------------------------\n",
      "256\n",
      "256\n",
      "256\n",
      "------------------------EPOCH 35-------------------------------\n",
      "256\n",
      "256\n",
      "256\n",
      "------------------------EPOCH 36-------------------------------\n",
      "256\n",
      "256\n",
      "256\n",
      "------------------------EPOCH 37-------------------------------\n",
      "256\n",
      "256\n",
      "256\n",
      "------------------------EPOCH 38-------------------------------\n",
      "256\n",
      "256\n",
      "256\n",
      "------------------------EPOCH 39-------------------------------\n",
      "256\n",
      "256\n",
      "256\n",
      "------------------------EPOCH 40-------------------------------\n",
      "256\n",
      "256\n",
      "256\n",
      "------------------------EPOCH 41-------------------------------\n",
      "256\n",
      "256\n",
      "256\n",
      "------------------------EPOCH 42-------------------------------\n",
      "256\n",
      "256\n",
      "256\n",
      "------------------------EPOCH 43-------------------------------\n",
      "256\n",
      "256\n",
      "256\n",
      "------------------------EPOCH 44-------------------------------\n",
      "256\n",
      "256\n",
      "256\n",
      "------------------------EPOCH 45-------------------------------\n",
      "256\n",
      "256\n",
      "256\n",
      "------------------------EPOCH 46-------------------------------\n",
      "256\n",
      "256\n",
      "256\n",
      "------------------------EPOCH 47-------------------------------\n",
      "256\n",
      "256\n",
      "256\n",
      "------------------------EPOCH 48-------------------------------\n",
      "256\n",
      "256\n",
      "256\n",
      "------------------------EPOCH 49-------------------------------\n"
     ]
    },
    {
     "ename": "KeyboardInterrupt",
     "evalue": "",
     "output_type": "error",
     "traceback": [
      "\u001b[0;31m---------------------------------------------------------------------------\u001b[0m",
      "\u001b[0;31mKeyboardInterrupt\u001b[0m                         Traceback (most recent call last)",
      "Cell \u001b[0;32mIn[16], line 4\u001b[0m\n\u001b[1;32m      2\u001b[0m \u001b[39mfor\u001b[39;00m epoch \u001b[39min\u001b[39;00m \u001b[39mrange\u001b[39m(num_epochs):\n\u001b[1;32m      3\u001b[0m     \u001b[39mprint\u001b[39m(\u001b[39mf\u001b[39m\u001b[39m\"\u001b[39m\u001b[39m------------------------EPOCH \u001b[39m\u001b[39m{\u001b[39;00mepoch \u001b[39m+\u001b[39m \u001b[39m1\u001b[39m\u001b[39m}\u001b[39;00m\u001b[39m-------------------------------\u001b[39m\u001b[39m\"\u001b[39m)\n\u001b[0;32m----> 4\u001b[0m     \u001b[39mfor\u001b[39;00m i, (src, tgt) \u001b[39min\u001b[39;00m \u001b[39menumerate\u001b[39m(train_loader):\n\u001b[1;32m      5\u001b[0m         \u001b[39mprint\u001b[39m(\u001b[39mlen\u001b[39m(src))\n\u001b[1;32m      6\u001b[0m         \u001b[39mif\u001b[39;00m i \u001b[39m>\u001b[39m \u001b[39m1\u001b[39m:\n",
      "File \u001b[0;32m~/.conda/envs/condaenv/lib/python3.9/site-packages/torch/utils/data/dataloader.py:628\u001b[0m, in \u001b[0;36m_BaseDataLoaderIter.__next__\u001b[0;34m(self)\u001b[0m\n\u001b[1;32m    625\u001b[0m \u001b[39mif\u001b[39;00m \u001b[39mself\u001b[39m\u001b[39m.\u001b[39m_sampler_iter \u001b[39mis\u001b[39;00m \u001b[39mNone\u001b[39;00m:\n\u001b[1;32m    626\u001b[0m     \u001b[39m# TODO(https://github.com/pytorch/pytorch/issues/76750)\u001b[39;00m\n\u001b[1;32m    627\u001b[0m     \u001b[39mself\u001b[39m\u001b[39m.\u001b[39m_reset()  \u001b[39m# type: ignore[call-arg]\u001b[39;00m\n\u001b[0;32m--> 628\u001b[0m data \u001b[39m=\u001b[39m \u001b[39mself\u001b[39;49m\u001b[39m.\u001b[39;49m_next_data()\n\u001b[1;32m    629\u001b[0m \u001b[39mself\u001b[39m\u001b[39m.\u001b[39m_num_yielded \u001b[39m+\u001b[39m\u001b[39m=\u001b[39m \u001b[39m1\u001b[39m\n\u001b[1;32m    630\u001b[0m \u001b[39mif\u001b[39;00m \u001b[39mself\u001b[39m\u001b[39m.\u001b[39m_dataset_kind \u001b[39m==\u001b[39m _DatasetKind\u001b[39m.\u001b[39mIterable \u001b[39mand\u001b[39;00m \\\n\u001b[1;32m    631\u001b[0m         \u001b[39mself\u001b[39m\u001b[39m.\u001b[39m_IterableDataset_len_called \u001b[39mis\u001b[39;00m \u001b[39mnot\u001b[39;00m \u001b[39mNone\u001b[39;00m \u001b[39mand\u001b[39;00m \\\n\u001b[1;32m    632\u001b[0m         \u001b[39mself\u001b[39m\u001b[39m.\u001b[39m_num_yielded \u001b[39m>\u001b[39m \u001b[39mself\u001b[39m\u001b[39m.\u001b[39m_IterableDataset_len_called:\n",
      "File \u001b[0;32m~/.conda/envs/condaenv/lib/python3.9/site-packages/torch/utils/data/dataloader.py:670\u001b[0m, in \u001b[0;36m_SingleProcessDataLoaderIter._next_data\u001b[0;34m(self)\u001b[0m\n\u001b[1;32m    669\u001b[0m \u001b[39mdef\u001b[39;00m \u001b[39m_next_data\u001b[39m(\u001b[39mself\u001b[39m):\n\u001b[0;32m--> 670\u001b[0m     index \u001b[39m=\u001b[39m \u001b[39mself\u001b[39;49m\u001b[39m.\u001b[39;49m_next_index()  \u001b[39m# may raise StopIteration\u001b[39;00m\n\u001b[1;32m    671\u001b[0m     data \u001b[39m=\u001b[39m \u001b[39mself\u001b[39m\u001b[39m.\u001b[39m_dataset_fetcher\u001b[39m.\u001b[39mfetch(index)  \u001b[39m# may raise StopIteration\u001b[39;00m\n\u001b[1;32m    672\u001b[0m     \u001b[39mif\u001b[39;00m \u001b[39mself\u001b[39m\u001b[39m.\u001b[39m_pin_memory:\n",
      "File \u001b[0;32m~/.conda/envs/condaenv/lib/python3.9/site-packages/torch/utils/data/dataloader.py:618\u001b[0m, in \u001b[0;36m_BaseDataLoaderIter._next_index\u001b[0;34m(self)\u001b[0m\n\u001b[1;32m    617\u001b[0m \u001b[39mdef\u001b[39;00m \u001b[39m_next_index\u001b[39m(\u001b[39mself\u001b[39m):\n\u001b[0;32m--> 618\u001b[0m     \u001b[39mreturn\u001b[39;00m \u001b[39mnext\u001b[39;49m(\u001b[39mself\u001b[39;49m\u001b[39m.\u001b[39;49m_sampler_iter)\n",
      "File \u001b[0;32m~/.conda/envs/condaenv/lib/python3.9/site-packages/torch/utils/data/sampler.py:254\u001b[0m, in \u001b[0;36mBatchSampler.__iter__\u001b[0;34m(self)\u001b[0m\n\u001b[1;32m    252\u001b[0m batch \u001b[39m=\u001b[39m [\u001b[39m0\u001b[39m] \u001b[39m*\u001b[39m \u001b[39mself\u001b[39m\u001b[39m.\u001b[39mbatch_size\n\u001b[1;32m    253\u001b[0m idx_in_batch \u001b[39m=\u001b[39m \u001b[39m0\u001b[39m\n\u001b[0;32m--> 254\u001b[0m \u001b[39mfor\u001b[39;00m idx \u001b[39min\u001b[39;00m \u001b[39mself\u001b[39m\u001b[39m.\u001b[39msampler:\n\u001b[1;32m    255\u001b[0m     batch[idx_in_batch] \u001b[39m=\u001b[39m idx\n\u001b[1;32m    256\u001b[0m     idx_in_batch \u001b[39m+\u001b[39m\u001b[39m=\u001b[39m \u001b[39m1\u001b[39m\n",
      "File \u001b[0;32m~/.conda/envs/condaenv/lib/python3.9/site-packages/torch/utils/data/sampler.py:132\u001b[0m, in \u001b[0;36mRandomSampler.__iter__\u001b[0;34m(self)\u001b[0m\n\u001b[1;32m    130\u001b[0m \u001b[39melse\u001b[39;00m:\n\u001b[1;32m    131\u001b[0m     \u001b[39mfor\u001b[39;00m _ \u001b[39min\u001b[39;00m \u001b[39mrange\u001b[39m(\u001b[39mself\u001b[39m\u001b[39m.\u001b[39mnum_samples \u001b[39m/\u001b[39m\u001b[39m/\u001b[39m n):\n\u001b[0;32m--> 132\u001b[0m         \u001b[39myield from\u001b[39;00m torch\u001b[39m.\u001b[39;49mrandperm(n, generator\u001b[39m=\u001b[39;49mgenerator)\u001b[39m.\u001b[39mtolist()\n\u001b[1;32m    133\u001b[0m     \u001b[39myield from\u001b[39;00m torch\u001b[39m.\u001b[39mrandperm(n, generator\u001b[39m=\u001b[39mgenerator)\u001b[39m.\u001b[39mtolist()[:\u001b[39mself\u001b[39m\u001b[39m.\u001b[39mnum_samples \u001b[39m%\u001b[39m n]\n",
      "\u001b[0;31mKeyboardInterrupt\u001b[0m: "
     ]
    }
   ],
   "source": [
    "count = 0\n",
    "for epoch in range(num_epochs):\n",
    "    print(f\"------------------------EPOCH {epoch + 1}-------------------------------\")\n",
    "    for i, (src, tgt) in enumerate(train_loader):\n",
    "        input_ids, input_masks = tokenize(src)\n",
    "        target_ids, target_masks = tokenize(tgt)\n",
    "        loss = MT_model.forward(input_ids, input_masks, target_ids, target_masks)\n",
    "        loss.backward()\n",
    "        optimizer.step()"
   ]
  },
  {
   "cell_type": "code",
   "execution_count": null,
   "metadata": {},
   "outputs": [],
   "source": []
  }
 ],
 "metadata": {
  "kernelspec": {
   "display_name": "condaenv",
   "language": "python",
   "name": "python3"
  },
  "language_info": {
   "codemirror_mode": {
    "name": "ipython",
    "version": 3
   },
   "file_extension": ".py",
   "mimetype": "text/x-python",
   "name": "python",
   "nbconvert_exporter": "python",
   "pygments_lexer": "ipython3",
   "version": "3.9.16"
  },
  "orig_nbformat": 4,
  "vscode": {
   "interpreter": {
    "hash": "ba129d3ed69af87e4eab8c2d4e17f59a651f25d15035729502e57aff85cb642c"
   }
  }
 },
 "nbformat": 4,
 "nbformat_minor": 2
}
